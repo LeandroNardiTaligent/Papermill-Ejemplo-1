{
 "cells": [
  {
   "cell_type": "code",
   "execution_count": 1,
   "metadata": {},
   "outputs": [],
   "source": [
    "import pandas as pd\n",
    "import os"
   ]
  },
  {
   "cell_type": "code",
   "execution_count": 2,
   "metadata": {},
   "outputs": [],
   "source": [
    "# Variables Globales\n",
    "PATH = os.getcwd()\n",
    "INPUT_FOLDER = 'input'\n",
    "AUX_FOLDER = 'aux_file'\n",
    "INPUT_FILENAME = 'dataset.xlsx'\n",
    "OUTPUT_FILENAME = 'dataset_validado.xlsx'\n",
    "ERROR = False"
   ]
  },
  {
   "cell_type": "code",
   "execution_count": 3,
   "metadata": {},
   "outputs": [],
   "source": [
    "# Si no esta la carpeta aux_file, la creo\n",
    "if not os.path.exists(os.path.join(PATH, AUX_FOLDER)):\n",
    "    os.mkdir(AUX_FOLDER)"
   ]
  },
  {
   "cell_type": "code",
   "execution_count": 4,
   "metadata": {},
   "outputs": [],
   "source": [
    "# Cargo los datos\n",
    "data = pd.read_excel(os.path.join(PATH, INPUT_FOLDER, INPUT_FILENAME))"
   ]
  },
  {
   "cell_type": "code",
   "execution_count": 5,
   "metadata": {},
   "outputs": [],
   "source": [
    "# Validacion del campo Fecha\n",
    "try:\n",
    "    data['Fecha'] = pd.to_datetime(data['Fecha'], format = '%Y-%m-%d')\n",
    "    data.to_excel(os.path.join(PATH, AUX_FOLDER, OUTPUT_FILENAME))\n",
    "except:\n",
    "    print('El campo Fecha no se encuentra cargado correctamente')\n",
    "    ERROR = True"
   ]
  },
  {
   "cell_type": "code",
   "execution_count": 6,
   "metadata": {},
   "outputs": [],
   "source": [
    "if ERROR:\n",
    "    os._exit(os.EX_OK)"
   ]
  }
 ],
 "metadata": {
  "kernelspec": {
   "display_name": "venv",
   "language": "python",
   "name": "python3"
  },
  "language_info": {
   "codemirror_mode": {
    "name": "ipython",
    "version": 3
   },
   "file_extension": ".py",
   "mimetype": "text/x-python",
   "name": "python",
   "nbconvert_exporter": "python",
   "pygments_lexer": "ipython3",
   "version": "3.11.2"
  },
  "orig_nbformat": 4
 },
 "nbformat": 4,
 "nbformat_minor": 2
}
