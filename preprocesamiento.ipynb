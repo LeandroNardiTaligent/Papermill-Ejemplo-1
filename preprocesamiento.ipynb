{
 "cells": [
  {
   "cell_type": "code",
   "execution_count": 17,
   "metadata": {},
   "outputs": [],
   "source": [
    "import pandas as pd\n",
    "import os\n",
    "from sklearn.preprocessing import StandardScaler"
   ]
  },
  {
   "cell_type": "code",
   "execution_count": 18,
   "metadata": {},
   "outputs": [],
   "source": [
    "# Variables Globales\n",
    "PATH = os.getcwd()\n",
    "AUX_FOLDER = 'aux_file'\n",
    "INPUT_FILENAME = 'dataset_validado.xlsx'\n",
    "OUTPUT_FILENAME = 'dataset_modelo.xlsx'\n",
    "ERROR = False"
   ]
  },
  {
   "cell_type": "code",
   "execution_count": 19,
   "metadata": {},
   "outputs": [],
   "source": [
    "# Cargo los datos\n",
    "df = pd.read_excel(os.path.join(PATH, AUX_FOLDER, INPUT_FILENAME))"
   ]
  },
  {
   "cell_type": "code",
   "execution_count": 20,
   "metadata": {},
   "outputs": [],
   "source": [
    "# Preprocesamiento\n",
    "df['Fecha'] = pd.to_datetime(df['Fecha'])\n",
    "df['Año'] = df['Fecha'].dt.year\n",
    "df['Mes'] = df['Fecha'].dt.month\n",
    "df['Dia'] = df['Fecha'].dt.day\n",
    "df.drop('Fecha', axis=1, inplace=True)\n",
    "\n",
    "scaler = StandardScaler()\n",
    "scaled_data = scaler.fit_transform(df[['Area', 'Habitaciones', 'Antiguedad', 'Precio']])\n",
    "df_scaled = pd.DataFrame(scaled_data, columns=['Area', 'Habitaciones', 'Antiguedad', 'Precio'])\n",
    "df[['Area', 'Habitaciones', 'Antiguedad', 'Precio']] = df_scaled"
   ]
  },
  {
   "cell_type": "code",
   "execution_count": 21,
   "metadata": {},
   "outputs": [
    {
     "data": {
      "text/html": [
       "<div>\n",
       "<style scoped>\n",
       "    .dataframe tbody tr th:only-of-type {\n",
       "        vertical-align: middle;\n",
       "    }\n",
       "\n",
       "    .dataframe tbody tr th {\n",
       "        vertical-align: top;\n",
       "    }\n",
       "\n",
       "    .dataframe thead th {\n",
       "        text-align: right;\n",
       "    }\n",
       "</style>\n",
       "<table border=\"1\" class=\"dataframe\">\n",
       "  <thead>\n",
       "    <tr style=\"text-align: right;\">\n",
       "      <th></th>\n",
       "      <th>Area</th>\n",
       "      <th>Habitaciones</th>\n",
       "      <th>Antiguedad</th>\n",
       "      <th>Precio</th>\n",
       "      <th>Año</th>\n",
       "      <th>Mes</th>\n",
       "      <th>Dia</th>\n",
       "    </tr>\n",
       "  </thead>\n",
       "  <tbody>\n",
       "    <tr>\n",
       "      <th>0</th>\n",
       "      <td>-0.278645</td>\n",
       "      <td>0.596351</td>\n",
       "      <td>0.698130</td>\n",
       "      <td>-0.393011</td>\n",
       "      <td>2019</td>\n",
       "      <td>1</td>\n",
       "      <td>19</td>\n",
       "    </tr>\n",
       "    <tr>\n",
       "      <th>1</th>\n",
       "      <td>-1.181684</td>\n",
       "      <td>-0.122144</td>\n",
       "      <td>0.733040</td>\n",
       "      <td>-1.309492</td>\n",
       "      <td>2008</td>\n",
       "      <td>1</td>\n",
       "      <td>27</td>\n",
       "    </tr>\n",
       "    <tr>\n",
       "      <th>2</th>\n",
       "      <td>0.717013</td>\n",
       "      <td>-1.559135</td>\n",
       "      <td>-0.837909</td>\n",
       "      <td>0.776002</td>\n",
       "      <td>2004</td>\n",
       "      <td>3</td>\n",
       "      <td>20</td>\n",
       "    </tr>\n",
       "    <tr>\n",
       "      <th>3</th>\n",
       "      <td>1.504278</td>\n",
       "      <td>1.314847</td>\n",
       "      <td>0.733040</td>\n",
       "      <td>1.266086</td>\n",
       "      <td>2019</td>\n",
       "      <td>9</td>\n",
       "      <td>2</td>\n",
       "    </tr>\n",
       "    <tr>\n",
       "      <th>4</th>\n",
       "      <td>1.018026</td>\n",
       "      <td>-0.840640</td>\n",
       "      <td>1.535969</td>\n",
       "      <td>0.134406</td>\n",
       "      <td>2015</td>\n",
       "      <td>5</td>\n",
       "      <td>27</td>\n",
       "    </tr>\n",
       "  </tbody>\n",
       "</table>\n",
       "</div>"
      ],
      "text/plain": [
       "       Area  Habitaciones  Antiguedad    Precio   Año  Mes  Dia\n",
       "0 -0.278645      0.596351    0.698130 -0.393011  2019    1   19\n",
       "1 -1.181684     -0.122144    0.733040 -1.309492  2008    1   27\n",
       "2  0.717013     -1.559135   -0.837909  0.776002  2004    3   20\n",
       "3  1.504278      1.314847    0.733040  1.266086  2019    9    2\n",
       "4  1.018026     -0.840640    1.535969  0.134406  2015    5   27"
      ]
     },
     "execution_count": 21,
     "metadata": {},
     "output_type": "execute_result"
    }
   ],
   "source": [
    "df.head()"
   ]
  },
  {
   "cell_type": "code",
   "execution_count": 22,
   "metadata": {},
   "outputs": [],
   "source": [
    "df.to_excel(os.path.join(PATH, AUX_FOLDER, OUTPUT_FILENAME), index=False)"
   ]
  }
 ],
 "metadata": {
  "kernelspec": {
   "display_name": "venv",
   "language": "python",
   "name": "python3"
  },
  "language_info": {
   "codemirror_mode": {
    "name": "ipython",
    "version": 3
   },
   "file_extension": ".py",
   "mimetype": "text/x-python",
   "name": "python",
   "nbconvert_exporter": "python",
   "pygments_lexer": "ipython3",
   "version": "3.11.2"
  },
  "orig_nbformat": 4
 },
 "nbformat": 4,
 "nbformat_minor": 2
}
